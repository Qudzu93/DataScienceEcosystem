{
 "cells": [
  {
   "cell_type": "markdown",
   "id": "8ab56c43-1aec-47cd-82e5-bbb88524abae",
   "metadata": {},
   "source": [
    "# Data Science Tools and Ecosystem"
   ]
  },
  {
   "cell_type": "markdown",
   "id": "53e11d62-6e07-40e3-877a-afe62f89fab0",
   "metadata": {},
   "source": [
    "In this notebook, Data Science Tools and Ecosystem are summarized."
   ]
  },
  {
   "cell_type": "markdown",
   "id": "7b1159c9-0762-46f0-afce-e11cc8225cfd",
   "metadata": {},
   "source": [
    "The following notebook introduces basic concepts used in Jupyter Notebooks and Data Science.\n",
    "- popular languages used by Data Scientists\n",
    "- commonly used libraries used by Data Scientists\n",
    "- open-source tools for Data Science\n",
    "- evcaluation of arythmetic expressions in Python"
   ]
  },
  {
   "cell_type": "markdown",
   "id": "8a0e1f0c-f9b4-4374-8439-b4ae9841354a",
   "metadata": {},
   "source": [
    "Some of the popular languages that Data Scientists use are:\n",
    "1. Python\n",
    "2. R\n",
    "3. SQL"
   ]
  },
  {
   "cell_type": "markdown",
   "id": "e092e0d8-a730-4abd-9d83-feffb176f41b",
   "metadata": {},
   "source": [
    "Some of the commonly used libraries used by Data Scientists include:\n",
    "1. NumPy\n",
    "2. Matplotlib\n",
    "3. Seaborn\n",
    "4. Pandas\n",
    "5. SciPy"
   ]
  },
  {
   "cell_type": "markdown",
   "id": "a4ecd7b0-378c-4126-b361-8ee0bec93cbb",
   "metadata": {
    "tags": []
   },
   "source": [
    "|Data Science Tools|\n",
    "|------------------|\n",
    "|RStudio|\n",
    "|Jupyter Notebooks|\n",
    "|Python|"
   ]
  },
  {
   "cell_type": "markdown",
   "id": "83d13aa3-bb48-48b8-9147-8eaefebed281",
   "metadata": {},
   "source": [
    "### Below are a few examples of evaluating arithmetic expressions in Python."
   ]
  },
  {
   "cell_type": "markdown",
   "id": "8066dcc8-ff69-4e52-8424-1d2dde70c1c4",
   "metadata": {},
   "source": [
    "This a simple arithmetic expression to mutiply then add integers"
   ]
  },
  {
   "cell_type": "code",
   "execution_count": 7,
   "id": "b16fe158-d03a-4533-b65e-719e3dd6f74b",
   "metadata": {
    "tags": []
   },
   "outputs": [
    {
     "data": {
      "text/plain": [
       "17"
      ]
     },
     "execution_count": 7,
     "metadata": {},
     "output_type": "execute_result"
    }
   ],
   "source": [
    "(3*4)+5"
   ]
  },
  {
   "cell_type": "markdown",
   "id": "31212d8f-227e-49dc-bd3c-1f472e67d77a",
   "metadata": {},
   "source": [
    "This will convert 200 minutes to hours by diving by 60"
   ]
  },
  {
   "cell_type": "code",
   "execution_count": 13,
   "id": "3a176651-fdd5-4117-939e-77f2a6772303",
   "metadata": {
    "tags": []
   },
   "outputs": [
    {
     "name": "stdout",
     "output_type": "stream",
     "text": [
      "3.3333333333333335\n"
     ]
    }
   ],
   "source": [
    "minutes = 200\n",
    "hours = minutes / 60\n",
    "print(hours)"
   ]
  },
  {
   "cell_type": "code",
   "execution_count": null,
   "id": "289a600b-81b6-44b9-ba94-f5d2bebecab3",
   "metadata": {},
   "outputs": [],
   "source": []
  }
 ],
 "metadata": {
  "kernelspec": {
   "display_name": "Python",
   "language": "python",
   "name": "conda-env-python-py"
  },
  "language_info": {
   "codemirror_mode": {
    "name": "ipython",
    "version": 3
   },
   "file_extension": ".py",
   "mimetype": "text/x-python",
   "name": "python",
   "nbconvert_exporter": "python",
   "pygments_lexer": "ipython3",
   "version": "3.7.12"
  }
 },
 "nbformat": 4,
 "nbformat_minor": 5
}
